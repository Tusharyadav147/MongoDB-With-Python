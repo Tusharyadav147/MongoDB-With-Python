{
 "cells": [
  {
   "cell_type": "markdown",
   "metadata": {},
   "source": [
    "## Mango Db with Python- Querying Json Documents"
   ]
  },
  {
   "cell_type": "code",
   "execution_count": 4,
   "metadata": {},
   "outputs": [],
   "source": [
    "import pymongo\n",
    "\n",
    "client=pymongo.MongoClient('mongodb://127.0.0.1:27017/')\n",
    "\n",
    "mydb=client['Employee']\n",
    "empinfo=mydb.employeeinformation"
   ]
  },
  {
   "cell_type": "code",
   "execution_count": 5,
   "metadata": {},
   "outputs": [
    {
     "data": {
      "text/plain": [
       "<pymongo.results.InsertOneResult at 0x2af8d76bfc8>"
      ]
     },
     "execution_count": 5,
     "metadata": {},
     "output_type": "execute_result"
    }
   ],
   "source": [
    "record={\n",
    "        'firstname':'Krish',\n",
    "        'lastname':'Naik',\n",
    "        'department':'Analytics',\n",
    "        'qualification':'BE',\n",
    "        'age':29\n",
    "        }\n",
    "empinfo.insert_one(record)"
   ]
  },
  {
   "cell_type": "code",
   "execution_count": 6,
   "metadata": {},
   "outputs": [],
   "source": [
    "records=[{\n",
    "        'firstname':'John',\n",
    "        'lastname':'Doe',\n",
    "        'department':'Analytics',\n",
    "        'qualification':'statistics',\n",
    "        'age':35\n",
    "        \n",
    "        },\n",
    "         {\n",
    "        'firstname':'John ',\n",
    "        'lastname':'Smith',\n",
    "        'department':'Analytics',\n",
    "        'qualification':'masters',\n",
    "        'age':30\n",
    "        \n",
    "        },\n",
    "        {\n",
    "        'firstname':'Manish',\n",
    "        'lastname':'Sen',\n",
    "        'department':'Analytics',\n",
    "        'qualification':'phd',\n",
    "        'age':34\n",
    "        \n",
    "        },\n",
    "        {\n",
    "        'firstname':'Ram',\n",
    "        'lastname':'Singh',\n",
    "        'department':'Analytics',\n",
    "        'qualification':'master',\n",
    "        'age':32\n",
    "        \n",
    "        }]"
   ]
  },
  {
   "cell_type": "code",
   "execution_count": 7,
   "metadata": {},
   "outputs": [
    {
     "data": {
      "text/plain": [
       "<pymongo.results.InsertManyResult at 0x2af8dacb188>"
      ]
     },
     "execution_count": 7,
     "metadata": {},
     "output_type": "execute_result"
    }
   ],
   "source": [
    "empinfo.insert_many(records)"
   ]
  },
  {
   "cell_type": "code",
   "execution_count": 8,
   "metadata": {},
   "outputs": [
    {
     "data": {
      "text/plain": [
       "{'_id': ObjectId('5e59ec2be0e386955e9489ba'),\n",
       " 'firstname': 'Krish',\n",
       " 'lastname': 'Naik',\n",
       " 'department': 'Analytics',\n",
       " 'qualification': 'BE',\n",
       " 'age': 29}"
      ]
     },
     "execution_count": 8,
     "metadata": {},
     "output_type": "execute_result"
    }
   ],
   "source": [
    "## Simple way of querying\n",
    "empinfo.find_one()"
   ]
  },
  {
   "cell_type": "code",
   "execution_count": 11,
   "metadata": {},
   "outputs": [
    {
     "name": "stdout",
     "output_type": "stream",
     "text": [
      "{'_id': ObjectId('5e59ec2be0e386955e9489ba'), 'firstname': 'Krish', 'lastname': 'Naik', 'department': 'Analytics', 'qualification': 'BE', 'age': 29}\n",
      "{'_id': ObjectId('5e59eca7e0e386955e9489bb'), 'firstname': 'John', 'lastname': 'Doe', 'department': 'Analytics', 'qualification': 'statistics', 'age': 35}\n",
      "{'_id': ObjectId('5e59eca7e0e386955e9489bc'), 'firstname': 'John ', 'lastname': 'Smith', 'department': 'Analytics', 'qualification': 'masters', 'age': 30}\n",
      "{'_id': ObjectId('5e59eca7e0e386955e9489bd'), 'firstname': 'Manish', 'lastname': 'Sen', 'department': 'Analytics', 'qualification': 'phd', 'age': 34}\n",
      "{'_id': ObjectId('5e59eca7e0e386955e9489be'), 'firstname': 'Ram', 'lastname': 'Singh', 'department': 'Analytics', 'qualification': 'master', 'age': 32}\n"
     ]
    }
   ],
   "source": [
    "## Select * from employeeinformation\n",
    "for record in empinfo.find({}):\n",
    "    print(record)"
   ]
  },
  {
   "cell_type": "code",
   "execution_count": 12,
   "metadata": {},
   "outputs": [
    {
     "name": "stdout",
     "output_type": "stream",
     "text": [
      "{'_id': ObjectId('5e59ec2be0e386955e9489ba'), 'firstname': 'Krish', 'lastname': 'Naik', 'department': 'Analytics', 'qualification': 'BE', 'age': 29}\n"
     ]
    }
   ],
   "source": [
    "## Query the json documents based on equality conditions\n",
    "# Select * from employeeinformation where firstname=krish\n",
    "\n",
    "for record in empinfo.find({'firstname':'Krish'}):\n",
    "    print(record)\n"
   ]
  },
  {
   "cell_type": "code",
   "execution_count": 13,
   "metadata": {},
   "outputs": [
    {
     "name": "stdout",
     "output_type": "stream",
     "text": [
      "{'_id': ObjectId('5e59eca7e0e386955e9489bd'), 'firstname': 'Manish', 'lastname': 'Sen', 'department': 'Analytics', 'qualification': 'phd', 'age': 34}\n",
      "{'_id': ObjectId('5e59eca7e0e386955e9489be'), 'firstname': 'Ram', 'lastname': 'Singh', 'department': 'Analytics', 'qualification': 'master', 'age': 32}\n"
     ]
    }
   ],
   "source": [
    "## Query documents using query operators($in,$lt,$gt)\n",
    "for record in empinfo.find({'qualification':{'$in':['phd','master']}}):\n",
    "    print(record)"
   ]
  },
  {
   "cell_type": "code",
   "execution_count": 14,
   "metadata": {},
   "outputs": [
    {
     "name": "stdout",
     "output_type": "stream",
     "text": [
      "{'_id': ObjectId('5e59eca7e0e386955e9489be'), 'firstname': 'Ram', 'lastname': 'Singh', 'department': 'Analytics', 'qualification': 'master', 'age': 32}\n"
     ]
    }
   ],
   "source": [
    "## And and Query operators\n",
    "for record in empinfo.find({'qualification':'master','age':{'$lt':35}}):\n",
    "    print(record)"
   ]
  },
  {
   "cell_type": "code",
   "execution_count": 17,
   "metadata": {},
   "outputs": [
    {
     "name": "stdout",
     "output_type": "stream",
     "text": [
      "{'_id': ObjectId('5e59ec2be0e386955e9489ba'), 'firstname': 'Krish', 'lastname': 'Naik', 'department': 'Analytics', 'qualification': 'BE', 'age': 29}\n"
     ]
    }
   ],
   "source": [
    "## OR operators\n",
    "for record in empinfo.find({'$or':[{'firstname':'Krish'},{'qualification':'BE'}]}):\n",
    "    print(record)"
   ]
  },
  {
   "cell_type": "code",
   "execution_count": 18,
   "metadata": {},
   "outputs": [],
   "source": [
    "inventory=mydb.inventory"
   ]
  },
  {
   "cell_type": "code",
   "execution_count": 19,
   "metadata": {},
   "outputs": [],
   "source": [
    "inventory.insert_many( [\n",
    "   { 'item': \"journal\", 'qty': 25, 'size': { 'h': 14, 'w': 21,'uom': \"cm\" }, 'status': \"A\" },\n",
    "   { 'item': \"notebook\", 'qty': 50,'size': { 'h': 8.5, 'w': 11,'uom': \"in\" },'status': \"A\" },\n",
    "   { 'item': \"paper\", 'qty': 100, 'size': { 'h': 8.5, 'w': 11,'uom': \"in\" },'status': \"D\" },\n",
    "   { 'item': \"planner\", 'qty': 75, 'size': { 'h': 22.85,'w': 30,'uom': \"cm\" },'status': \"D\" },\n",
    "   { 'item': \"postcard\", 'qty': 45, 'size': { 'h': 10, 'w': 15.25,'uom': \"cm\" },'status': \"A\" }\n",
    "]);\n",
    "    "
   ]
  },
  {
   "cell_type": "code",
   "execution_count": 21,
   "metadata": {},
   "outputs": [
    {
     "name": "stdout",
     "output_type": "stream",
     "text": [
      "{'_id': ObjectId('5e59f14ee0e386955e9489bf'), 'item': 'journal', 'qty': 25, 'size': {'h': 14, 'w': 21, 'uom': 'cm'}, 'status': 'A'}\n"
     ]
    }
   ],
   "source": [
    "for records in inventory.find({'size': { 'h': 14, 'w': 21,'uom': \"cm\" }}):\n",
    "    print(records)"
   ]
  },
  {
   "cell_type": "code",
   "execution_count": null,
   "metadata": {},
   "outputs": [],
   "source": []
  },
  {
   "cell_type": "code",
   "execution_count": null,
   "metadata": {},
   "outputs": [],
   "source": []
  },
  {
   "cell_type": "code",
   "execution_count": null,
   "metadata": {},
   "outputs": [],
   "source": []
  },
  {
   "cell_type": "code",
   "execution_count": null,
   "metadata": {},
   "outputs": [],
   "source": []
  },
  {
   "cell_type": "code",
   "execution_count": null,
   "metadata": {},
   "outputs": [],
   "source": []
  },
  {
   "cell_type": "code",
   "execution_count": null,
   "metadata": {},
   "outputs": [],
   "source": []
  },
  {
   "cell_type": "code",
   "execution_count": null,
   "metadata": {},
   "outputs": [],
   "source": []
  }
 ],
 "metadata": {
  "kernelspec": {
   "display_name": "Python 3",
   "language": "python",
   "name": "python3"
  },
  "language_info": {
   "codemirror_mode": {
    "name": "ipython",
    "version": 3
   },
   "file_extension": ".py",
   "mimetype": "text/x-python",
   "name": "python",
   "nbconvert_exporter": "python",
   "pygments_lexer": "ipython3",
   "version": "3.7.1"
  }
 },
 "nbformat": 4,
 "nbformat_minor": 2
}
