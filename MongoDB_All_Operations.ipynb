{
 "cells": [
  {
   "cell_type": "markdown",
   "metadata": {},
   "source": [
    "### To connect mongodb with python use this command"
   ]
  },
  {
   "cell_type": "code",
   "execution_count": 1,
   "metadata": {},
   "outputs": [],
   "source": [
    "import pymongo\n",
    "myclient = pymongo.MongoClient(\"mongodb://localhost:27017/\")\n"
   ]
  },
  {
   "cell_type": "markdown",
   "metadata": {},
   "source": [
    "### To show all databases in mongodb"
   ]
  },
  {
   "cell_type": "code",
   "execution_count": 8,
   "metadata": {},
   "outputs": [
    {
     "data": {
      "text/plain": [
       "['India', 'MYDB', 'Test_Database', 'admin', 'config', 'fist', 'local', 'mydb1']"
      ]
     },
     "execution_count": 8,
     "metadata": {},
     "output_type": "execute_result"
    }
   ],
   "source": [
    "myclient.list_database_names()"
   ]
  },
  {
   "cell_type": "markdown",
   "metadata": {},
   "source": [
    "### To show collection name in database"
   ]
  },
  {
   "cell_type": "code",
   "execution_count": 9,
   "metadata": {},
   "outputs": [
    {
     "data": {
      "text/plain": [
       "['stateinfo']"
      ]
     },
     "execution_count": 9,
     "metadata": {},
     "output_type": "execute_result"
    }
   ],
   "source": [
    "myclient.India.list_collection_names()"
   ]
  },
  {
   "cell_type": "markdown",
   "metadata": {},
   "source": [
    "### To create database"
   ]
  },
  {
   "cell_type": "code",
   "execution_count": 2,
   "metadata": {},
   "outputs": [],
   "source": [
    "mydb = myclient.fist"
   ]
  },
  {
   "cell_type": "markdown",
   "metadata": {},
   "source": [
    "### To create collection"
   ]
  },
  {
   "cell_type": "code",
   "execution_count": 3,
   "metadata": {},
   "outputs": [],
   "source": [
    "mycollection = mydb.first_collection"
   ]
  },
  {
   "cell_type": "markdown",
   "metadata": {},
   "source": [
    "### To insert one record"
   ]
  },
  {
   "cell_type": "code",
   "execution_count": 7,
   "metadata": {},
   "outputs": [
    {
     "data": {
      "text/plain": [
       "<pymongo.results.InsertOneResult at 0x23bfd2c8a40>"
      ]
     },
     "execution_count": 7,
     "metadata": {},
     "output_type": "execute_result"
    }
   ],
   "source": [
    "newrecord = {\"State\": \"Maharastra\", \"Capital\": \"Mumbai\"}\n",
    "mycollection.insert_one(newrecord)"
   ]
  },
  {
   "cell_type": "markdown",
   "metadata": {},
   "source": [
    "### To insert many record"
   ]
  },
  {
   "cell_type": "code",
   "execution_count": 4,
   "metadata": {},
   "outputs": [],
   "source": [
    "statelist = [\n",
    "    {\"State\": \"Maharastra\", \"Capital\": \"Mumbai\", \"pin\": 45321},\n",
    "    {\"State\": \"Rajesthan\", \"Capital\": \"Jaipur\", \"pin\": 42546, \"other\": {\"famous\": \"IT cell\", \"place\": \"Neemuch\"}},\n",
    "    {\"State\": \"Gujarat\", \"Capital\": \"Gandhi Nagar\", \"pin\": 67278},\n",
    "    {\"State\": \"Karnataka\", \"Capital\": \"Bengaluru\", \"pin\": 4657},\n",
    "    {\"State\": \"Sikkim\", \"Capital\": \"Gangtok\"},\n",
    "    {\"State\": \"Jammu&Kashmir\", \"Capital\": \"Jammu\"},\n",
    "    {\"State\": \"Punjab\", \"Capital\": \"Chandigarh\"}\n",
    "]\n",
    "mycollection.insert_many(statelist)"
   ]
  },
  {
   "cell_type": "markdown",
   "metadata": {},
   "source": [
    "### To delete a record"
   ]
  },
  {
   "cell_type": "code",
   "execution_count": 10,
   "metadata": {},
   "outputs": [
    {
     "data": {
      "text/plain": [
       "<pymongo.results.DeleteResult at 0x23bfba64340>"
      ]
     },
     "execution_count": 10,
     "metadata": {},
     "output_type": "execute_result"
    }
   ],
   "source": [
    "mycollection.delete_one({\"state\":\"Punjab\"})"
   ]
  },
  {
   "cell_type": "markdown",
   "metadata": {},
   "source": [
    "### To delete many record"
   ]
  },
  {
   "cell_type": "code",
   "execution_count": 12,
   "metadata": {},
   "outputs": [
    {
     "data": {
      "text/plain": [
       "<pymongo.results.DeleteResult at 0x23bfba66b80>"
      ]
     },
     "execution_count": 12,
     "metadata": {},
     "output_type": "execute_result"
    }
   ],
   "source": [
    "mycollection.delete_many({\"State\":\"Sikkim\"})"
   ]
  },
  {
   "cell_type": "markdown",
   "metadata": {},
   "source": [
    "### To update a record"
   ]
  },
  {
   "cell_type": "code",
   "execution_count": 13,
   "metadata": {},
   "outputs": [
    {
     "data": {
      "text/plain": [
       "<pymongo.results.UpdateResult at 0x23bfd619340>"
      ]
     },
     "execution_count": 13,
     "metadata": {},
     "output_type": "execute_result"
    }
   ],
   "source": [
    "mycollection.update_one({\"State\":\"Gujarat\"}, {\"$set\": {\"language\": \"Gujarat\"}})"
   ]
  },
  {
   "cell_type": "markdown",
   "metadata": {},
   "source": [
    "### To update many record"
   ]
  },
  {
   "cell_type": "code",
   "execution_count": 26,
   "metadata": {},
   "outputs": [
    {
     "data": {
      "text/plain": [
       "<pymongo.results.UpdateResult at 0x23bfe6744c0>"
      ]
     },
     "execution_count": 26,
     "metadata": {},
     "output_type": "execute_result"
    }
   ],
   "source": [
    "mycollection.update_many({\"State\":\"Maharastra\"},{\"$set\": {\"lanuage\": [\"hind\",\"English\",\"punjabi\"], \"pin\": 44656}})"
   ]
  },
  {
   "cell_type": "code",
   "execution_count": 27,
   "metadata": {},
   "outputs": [
    {
     "data": {
      "text/plain": [
       "2"
      ]
     },
     "execution_count": 27,
     "metadata": {},
     "output_type": "execute_result"
    }
   ],
   "source": [
    "mycollection.count_documents({\"State\":\"Maharastra\"})"
   ]
  },
  {
   "cell_type": "markdown",
   "metadata": {},
   "source": [
    "### To Replace one"
   ]
  },
  {
   "cell_type": "code",
   "execution_count": 29,
   "metadata": {},
   "outputs": [
    {
     "data": {
      "text/plain": [
       "<pymongo.results.UpdateResult at 0x23bfd2b7b00>"
      ]
     },
     "execution_count": 29,
     "metadata": {},
     "output_type": "execute_result"
    }
   ],
   "source": [
    "mycollection.replace_one({\"State\": \"Punjab\"}, {\"State\": \"Punjab\", \"details\": [{\"pin\": 453212, \"mob\": 8000045457}, {\"location\":\"punjab\"}]})"
   ]
  },
  {
   "cell_type": "markdown",
   "metadata": {},
   "source": [
    "### To find record\n",
    "it is like select * form table"
   ]
  },
  {
   "cell_type": "code",
   "execution_count": 16,
   "metadata": {},
   "outputs": [
    {
     "data": {
      "text/plain": [
       "{'_id': ObjectId('628f607c8600586a8f38707b'),\n",
       " 'State': 'Maharastra',\n",
       " 'Capital': 'Mumbai',\n",
       " 'pin': 45321}"
      ]
     },
     "execution_count": 16,
     "metadata": {},
     "output_type": "execute_result"
    }
   ],
   "source": [
    "mycollection.find_one()"
   ]
  },
  {
   "cell_type": "code",
   "execution_count": 18,
   "metadata": {},
   "outputs": [
    {
     "name": "stdout",
     "output_type": "stream",
     "text": [
      "{'_id': ObjectId('628f607c8600586a8f38707b'), 'State': 'Maharastra', 'Capital': 'Mumbai', 'pin': 45321}\n",
      "{'_id': ObjectId('628f607c8600586a8f38707c'), 'State': 'Rajesthan', 'Capital': 'Jaipur', 'pin': 42546, 'other': {'famous': 'IT cell', 'place': 'Neemuch'}}\n",
      "{'_id': ObjectId('628f607c8600586a8f38707d'), 'State': 'Gujarat', 'Capital': 'Gandhi Nagar', 'pin': 67278, 'language': 'Gujarat'}\n",
      "{'_id': ObjectId('628f607c8600586a8f38707e'), 'State': 'Karnataka', 'Capital': 'Bengaluru', 'pin': 4657}\n",
      "{'_id': ObjectId('628f607c8600586a8f387080'), 'State': 'Jammu&Kashmir', 'Capital': 'Jammu'}\n",
      "{'_id': ObjectId('628f607c8600586a8f387081'), 'State': 'Punjab', 'Capital': 'Chandigarh'}\n",
      "{'_id': ObjectId('628f61308600586a8f387082'), 'State': 'Maharastra', 'Capital': 'Mumbai'}\n"
     ]
    }
   ],
   "source": [
    "for i in mycollection.find():\n",
    "    print(i)"
   ]
  },
  {
   "cell_type": "markdown",
   "metadata": {},
   "source": [
    "### Query the json based on equality condition\n",
    "It is like select * from table where a = 1"
   ]
  },
  {
   "cell_type": "code",
   "execution_count": 19,
   "metadata": {},
   "outputs": [
    {
     "name": "stdout",
     "output_type": "stream",
     "text": [
      "{'_id': ObjectId('628f607c8600586a8f38707b'), 'State': 'Maharastra', 'Capital': 'Mumbai', 'pin': 45321}\n",
      "{'_id': ObjectId('628f61308600586a8f387082'), 'State': 'Maharastra', 'Capital': 'Mumbai'}\n"
     ]
    }
   ],
   "source": [
    "for i in mycollection.find({\"State\": \"Maharastra\"}):\n",
    "    print(i)"
   ]
  },
  {
   "cell_type": "markdown",
   "metadata": {},
   "source": [
    "### Query the Json based on query operators($in, $lt, $gt)"
   ]
  },
  {
   "cell_type": "code",
   "execution_count": 20,
   "metadata": {},
   "outputs": [
    {
     "name": "stdout",
     "output_type": "stream",
     "text": [
      "{'_id': ObjectId('628f607c8600586a8f38707b'), 'State': 'Maharastra', 'Capital': 'Mumbai', 'pin': 45321}\n",
      "{'_id': ObjectId('628f607c8600586a8f38707d'), 'State': 'Gujarat', 'Capital': 'Gandhi Nagar', 'pin': 67278, 'language': 'Gujarat'}\n",
      "{'_id': ObjectId('628f607c8600586a8f387081'), 'State': 'Punjab', 'Capital': 'Chandigarh'}\n",
      "{'_id': ObjectId('628f61308600586a8f387082'), 'State': 'Maharastra', 'Capital': 'Mumbai'}\n"
     ]
    }
   ],
   "source": [
    "for i in mycollection.find({\"State\": {'$in': [\"Maharastra\", \"Punjab\", \"Gujarat\"]}}):\n",
    "    print(i)"
   ]
  },
  {
   "cell_type": "markdown",
   "metadata": {},
   "source": [
    "### And and Query Operator"
   ]
  },
  {
   "cell_type": "code",
   "execution_count": 23,
   "metadata": {},
   "outputs": [
    {
     "name": "stdout",
     "output_type": "stream",
     "text": [
      "{'_id': ObjectId('628f607c8600586a8f38707b'), 'State': 'Maharastra', 'Capital': 'Mumbai', 'pin': 45321}\n"
     ]
    }
   ],
   "source": [
    "for i in mycollection.find({\"State\": \"Maharastra\", \"pin\":{\"$lt\": 50000}}):\n",
    "    print(i)"
   ]
  },
  {
   "cell_type": "markdown",
   "metadata": {},
   "source": [
    "### OR Operator"
   ]
  },
  {
   "cell_type": "code",
   "execution_count": 25,
   "metadata": {},
   "outputs": [
    {
     "name": "stdout",
     "output_type": "stream",
     "text": [
      "{'_id': ObjectId('628f607c8600586a8f38707b'), 'State': 'Maharastra', 'Capital': 'Mumbai', 'pin': 45321}\n",
      "{'_id': ObjectId('628f61308600586a8f387082'), 'State': 'Maharastra', 'Capital': 'Mumbai'}\n"
     ]
    }
   ],
   "source": [
    "for i in mycollection.find({\"$or\": [{\"State\": \"Maharastra\"}, {\"pin\": 45321}]}):\n",
    "    print(i)"
   ]
  },
  {
   "cell_type": "markdown",
   "metadata": {},
   "source": [
    "### Aggregate Function"
   ]
  },
  {
   "cell_type": "code",
   "execution_count": 30,
   "metadata": {},
   "outputs": [
    {
     "data": {
      "text/plain": [
       "<pymongo.results.InsertManyResult at 0x23bfe520580>"
      ]
     },
     "execution_count": 30,
     "metadata": {},
     "output_type": "execute_result"
    }
   ],
   "source": [
    "data = [ \n",
    "    {\"user\":\"Krish\", \"subject\":\"Database\", \"score\":80}, \n",
    "    {\"user\":\"Amit\",  \"subject\":\"JavaScript\", \"score\":90}, \n",
    "    {\"user\":\"Amit\",  \"title\":\"Database\", \"score\":85}, \n",
    "    {\"user\":\"Krish\",  \"title\":\"JavaScript\", \"score\":75}, \n",
    "    {\"user\":\"Amit\",  \"title\":\"Data Science\", \"score\":60},\n",
    "    {\"user\":\"Krish\",  \"title\":\"Data Science\", \"score\":95}] \n",
    "  \n",
    "mycollection.insert_many(data) "
   ]
  },
  {
   "cell_type": "markdown",
   "metadata": {},
   "source": [
    "### Find Amit And Krish Total Subjects"
   ]
  },
  {
   "cell_type": "code",
   "execution_count": 31,
   "metadata": {},
   "outputs": [],
   "source": [
    "\n",
    "agg_result= mycollection.aggregate( \n",
    "    [{ \n",
    "    \"$group\" :  \n",
    "        {\"_id\" : \"$user\",  \n",
    "         \"Total Subject\" : {\"$sum\" : 1} \n",
    "         }} \n",
    "    ]) "
   ]
  },
  {
   "cell_type": "code",
   "execution_count": 32,
   "metadata": {},
   "outputs": [
    {
     "name": "stdout",
     "output_type": "stream",
     "text": [
      "{'_id': 'Amit', 'Total Subject': 3}\n",
      "{'_id': None, 'Total Subject': 7}\n",
      "{'_id': 'Krish', 'Total Subject': 3}\n"
     ]
    }
   ],
   "source": [
    "for i in agg_result:\n",
    "    print(i)"
   ]
  },
  {
   "cell_type": "markdown",
   "metadata": {},
   "source": [
    "### Calculating the total score based on user"
   ]
  },
  {
   "cell_type": "code",
   "execution_count": 33,
   "metadata": {},
   "outputs": [
    {
     "name": "stdout",
     "output_type": "stream",
     "text": [
      "{'_id': 'Amit', 'Total Marks': 235}\n",
      "{'_id': None, 'Total Marks': 0}\n",
      "{'_id': 'Krish', 'Total Marks': 250}\n"
     ]
    }
   ],
   "source": [
    "agg_result= mycollection.aggregate( \n",
    "    [{ \n",
    "    \"$group\" :  \n",
    "        {\"_id\" : \"$user\",  \n",
    "         \"Total Marks\" : {\"$sum\" :\"$score\"} \n",
    "         }} \n",
    "    ]) \n",
    "for i in agg_result: \n",
    "    print(i)"
   ]
  },
  {
   "cell_type": "markdown",
   "metadata": {},
   "source": [
    "### Calculating the average score based on user"
   ]
  },
  {
   "cell_type": "code",
   "execution_count": 34,
   "metadata": {},
   "outputs": [
    {
     "name": "stdout",
     "output_type": "stream",
     "text": [
      "{'_id': 'Amit', 'StudentScoreAverage': 78.33333333333333}\n",
      "{'_id': None, 'StudentScoreAverage': None}\n",
      "{'_id': 'Krish', 'StudentScoreAverage': 83.33333333333333}\n"
     ]
    }
   ],
   "source": [
    "agg_result=mycollection.aggregate([\n",
    "   {\n",
    "      \"$group\": {\n",
    "         \"_id\": '$user',\n",
    "         \"StudentScoreAverage\": {\n",
    "            \"$avg\": \"$score\"\n",
    "         }\n",
    "      }\n",
    "   }\n",
    "])\n",
    "for i in agg_result: \n",
    "    print(i)"
   ]
  },
  {
   "cell_type": "code",
   "execution_count": null,
   "metadata": {},
   "outputs": [],
   "source": []
  }
 ],
 "metadata": {
  "interpreter": {
   "hash": "11938c6bc6919ae2720b4d5011047913343b08a43b18698fd82dedb0d4417594"
  },
  "kernelspec": {
   "display_name": "Python 3.9.7 64-bit",
   "language": "python",
   "name": "python3"
  },
  "language_info": {
   "codemirror_mode": {
    "name": "ipython",
    "version": 3
   },
   "file_extension": ".py",
   "mimetype": "text/x-python",
   "name": "python",
   "nbconvert_exporter": "python",
   "pygments_lexer": "ipython3",
   "version": "3.9.7"
  },
  "orig_nbformat": 4
 },
 "nbformat": 4,
 "nbformat_minor": 2
}
