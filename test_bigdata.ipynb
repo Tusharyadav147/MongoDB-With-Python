{
 "cells": [
  {
   "cell_type": "code",
   "execution_count": 1,
   "id": "7c27681a",
   "metadata": {},
   "outputs": [
    {
     "name": "stdout",
     "output_type": "stream",
     "text": [
      "Requirement already satisfied: pymongo in c:\\users\\dell\\anaconda3\\lib\\site-packages (4.0.1)\n"
     ]
    }
   ],
   "source": [
    "! pip install pymongo"
   ]
  },
  {
   "cell_type": "code",
   "execution_count": 2,
   "id": "4cc15564",
   "metadata": {},
   "outputs": [],
   "source": [
    "import pymongo"
   ]
  },
  {
   "cell_type": "code",
   "execution_count": 3,
   "id": "17d0b1b8",
   "metadata": {},
   "outputs": [],
   "source": [
    "connection = pymongo.MongoClient(\"mongodb://localhost:27017/\")"
   ]
  },
  {
   "cell_type": "code",
   "execution_count": 6,
   "id": "73e172b4",
   "metadata": {},
   "outputs": [
    {
     "data": {
      "text/plain": [
       "['organization', 'Student']"
      ]
     },
     "execution_count": 6,
     "metadata": {},
     "output_type": "execute_result"
    }
   ],
   "source": [
    "connection.DAVV.list_collection_names()"
   ]
  },
  {
   "cell_type": "code",
   "execution_count": 7,
   "id": "59ad276c",
   "metadata": {},
   "outputs": [
    {
     "data": {
      "text/plain": [
       "<pymongo.results.InsertOneResult at 0x2ec0782db00>"
      ]
     },
     "execution_count": 7,
     "metadata": {},
     "output_type": "execute_result"
    }
   ],
   "source": [
    "document1={\"name\":\"India\", \"capital\":\"Delhi\"}\n",
    "connection.gk.country.insert_one(document1)"
   ]
  },
  {
   "cell_type": "code",
   "execution_count": 8,
   "id": "6146157f",
   "metadata": {},
   "outputs": [
    {
     "data": {
      "text/plain": [
       "<pymongo.results.InsertOneResult at 0x2ec07925d40>"
      ]
     },
     "execution_count": 8,
     "metadata": {},
     "output_type": "execute_result"
    }
   ],
   "source": [
    "document2={\"name\":\"Srilanka\", \"capital\":\"Colombo\", \"location\":\"near India\", \"population\":\"xxxx\"}\n",
    "connection.gk.country.insert_one(document2)"
   ]
  },
  {
   "cell_type": "code",
   "execution_count": 9,
   "id": "6a6c99db",
   "metadata": {},
   "outputs": [],
   "source": [
    "doc3={\"name\":\"USA\", \"capital\":\"Washington\", \"others\":{\"famous\":[\"Huge Economy\", \"good job\"], \"numofstates\":\"50\"}}\n",
    "doc4={\"name\":\"UK\", \"capital\":\"London\", \"ruled_details\":[\"c1\", \"c2\",\"c3\"]}"
   ]
  },
  {
   "cell_type": "code",
   "execution_count": 10,
   "id": "300ec900",
   "metadata": {},
   "outputs": [
    {
     "data": {
      "text/plain": [
       "<pymongo.results.InsertManyResult at 0x2ec0783ed00>"
      ]
     },
     "execution_count": 10,
     "metadata": {},
     "output_type": "execute_result"
    }
   ],
   "source": [
    "connection.gk.country.insert_many([doc3,doc4])"
   ]
  },
  {
   "cell_type": "code",
   "execution_count": 11,
   "id": "6fca7252",
   "metadata": {},
   "outputs": [],
   "source": [
    "mylist=[\n",
    "    {\"name\":\"pakistan\", \"capital\":\"Islamabad\"},\n",
    "    {\"name\":\"China\", \"capital\":\"Beijing\"},\n",
    "    {\"name\":\"Russia\", \"capital\":\"Moscow\"},\n",
    "    {\"name\":\"Ukraine\", \"capital\":\"XX\"},\n",
    "    {\"name\":\"France\", \"capital\":\"Paris\"}\n",
    "]"
   ]
  },
  {
   "cell_type": "code",
   "execution_count": 12,
   "id": "4254f2e6",
   "metadata": {},
   "outputs": [
    {
     "data": {
      "text/plain": [
       "<pymongo.results.InsertManyResult at 0x2ec07cfcd80>"
      ]
     },
     "execution_count": 12,
     "metadata": {},
     "output_type": "execute_result"
    }
   ],
   "source": [
    "connection.gk.country.insert_many(mylist)"
   ]
  },
  {
   "cell_type": "code",
   "execution_count": 13,
   "id": "68c26040",
   "metadata": {},
   "outputs": [],
   "source": [
    "x=connection.gk.country\n"
   ]
  },
  {
   "cell_type": "code",
   "execution_count": 14,
   "id": "d43ebc6f",
   "metadata": {},
   "outputs": [
    {
     "data": {
      "text/plain": [
       "<pymongo.results.DeleteResult at 0x2ec07cfc780>"
      ]
     },
     "execution_count": 14,
     "metadata": {},
     "output_type": "execute_result"
    }
   ],
   "source": [
    "x.delete_one({\"name\":\"France\"})"
   ]
  },
  {
   "cell_type": "code",
   "execution_count": 15,
   "id": "b2ef3a5f",
   "metadata": {},
   "outputs": [
    {
     "data": {
      "text/plain": [
       "<pymongo.results.DeleteResult at 0x2ec07ceca40>"
      ]
     },
     "execution_count": 15,
     "metadata": {},
     "output_type": "execute_result"
    }
   ],
   "source": [
    "x.delete_many({\"name\":\"France\"})"
   ]
  },
  {
   "cell_type": "code",
   "execution_count": 16,
   "id": "51f28bfd",
   "metadata": {},
   "outputs": [
    {
     "data": {
      "text/plain": [
       "<pymongo.results.UpdateResult at 0x2ec079f5e00>"
      ]
     },
     "execution_count": 16,
     "metadata": {},
     "output_type": "execute_result"
    }
   ],
   "source": [
    "x.update_one({\"name\":\"India\"}, {\"$set\":{\"symbols\":{\"animal\":\"Tiger\", \"flower\":\"Lotus\", \"flag\":\"Tiranga\"}, \"language\":\"hindi\"}})"
   ]
  },
  {
   "cell_type": "code",
   "execution_count": 18,
   "id": "59256268",
   "metadata": {},
   "outputs": [
    {
     "data": {
      "text/plain": [
       "<pymongo.results.UpdateResult at 0x2ec07c0c040>"
      ]
     },
     "execution_count": 18,
     "metadata": {},
     "output_type": "execute_result"
    }
   ],
   "source": [
    "x.update_one({\"name\":\"India\"},{\"$set\":{\"states\":[\"MP\", \"UP\", \"HP\", \"Gujarat\"]}})"
   ]
  },
  {
   "cell_type": "code",
   "execution_count": 19,
   "id": "968724b0",
   "metadata": {},
   "outputs": [
    {
     "data": {
      "text/plain": [
       "{'_id': ObjectId('621b59a188266fc65a9babf6'),\n",
       " 'name': 'India',\n",
       " 'capital': 'Delhi',\n",
       " 'language': 'hindi',\n",
       " 'symbols': {'animal': 'Tiger', 'flower': 'Lotus', 'flag': 'Tiranga'},\n",
       " 'states': ['MP', 'UP', 'HP', 'Gujarat']}"
      ]
     },
     "execution_count": 19,
     "metadata": {},
     "output_type": "execute_result"
    }
   ],
   "source": [
    "x.find_one({\"name\":\"India\"})"
   ]
  },
  {
   "cell_type": "code",
   "execution_count": 20,
   "id": "3aa0a2ed",
   "metadata": {},
   "outputs": [
    {
     "data": {
      "text/plain": [
       "<pymongo.results.InsertOneResult at 0x2ec07d96d00>"
      ]
     },
     "execution_count": 20,
     "metadata": {},
     "output_type": "execute_result"
    }
   ],
   "source": [
    "x.insert_one({\"name\":\"India\"})"
   ]
  },
  {
   "cell_type": "code",
   "execution_count": 21,
   "id": "f6fd62f7",
   "metadata": {},
   "outputs": [
    {
     "data": {
      "text/plain": [
       "{'_id': ObjectId('621b59a188266fc65a9babf6'),\n",
       " 'name': 'India',\n",
       " 'capital': 'Delhi',\n",
       " 'language': 'hindi',\n",
       " 'symbols': {'animal': 'Tiger', 'flower': 'Lotus', 'flag': 'Tiranga'},\n",
       " 'states': ['MP', 'UP', 'HP', 'Gujarat']}"
      ]
     },
     "execution_count": 21,
     "metadata": {},
     "output_type": "execute_result"
    }
   ],
   "source": [
    "x.find_one({\"name\":\"India\"})"
   ]
  },
  {
   "cell_type": "code",
   "execution_count": 22,
   "id": "baac384e",
   "metadata": {},
   "outputs": [
    {
     "name": "stdout",
     "output_type": "stream",
     "text": [
      "{'_id': ObjectId('621b59a188266fc65a9babf6'), 'name': 'India', 'capital': 'Delhi', 'language': 'hindi', 'symbols': {'animal': 'Tiger', 'flower': 'Lotus', 'flag': 'Tiranga'}, 'states': ['MP', 'UP', 'HP', 'Gujarat']}\n",
      "{'_id': ObjectId('621b61f088266fc65a9babff'), 'name': 'India'}\n"
     ]
    }
   ],
   "source": [
    "result=x.find({\"name\":\"India\"})\n",
    "for i in result:\n",
    "    print(i)"
   ]
  },
  {
   "cell_type": "code",
   "execution_count": 38,
   "id": "bb70744b",
   "metadata": {},
   "outputs": [],
   "source": [
    "result=x.find({\"$and\":[{\"name\":\"India\"}, {\"capital\":\"Delhi\"}, {\"symbols.animal\":\"Tiger\"}, {\"states\":\"MP\"}]})"
   ]
  },
  {
   "cell_type": "code",
   "execution_count": 39,
   "id": "29b2f6d5",
   "metadata": {},
   "outputs": [
    {
     "name": "stdout",
     "output_type": "stream",
     "text": [
      "{'_id': ObjectId('621b59a188266fc65a9babf6'), 'name': 'India', 'capital': 'Delhi', 'language': 'hindi', 'symbols': {'animal': 'Tiger', 'flower': 'Lotus', 'flag': 'Tiranga'}, 'states': ['MP', 'UP', 'HP', 'Gujarat']}\n"
     ]
    }
   ],
   "source": [
    "for i in result:\n",
    "    print(i)"
   ]
  },
  {
   "cell_type": "code",
   "execution_count": null,
   "id": "81d2a612",
   "metadata": {},
   "outputs": [],
   "source": []
  }
 ],
 "metadata": {
  "kernelspec": {
   "display_name": "Python 3 (ipykernel)",
   "language": "python",
   "name": "python3"
  },
  "language_info": {
   "codemirror_mode": {
    "name": "ipython",
    "version": 3
   },
   "file_extension": ".py",
   "mimetype": "text/x-python",
   "name": "python",
   "nbconvert_exporter": "python",
   "pygments_lexer": "ipython3",
   "version": "3.9.7"
  }
 },
 "nbformat": 4,
 "nbformat_minor": 5
}
